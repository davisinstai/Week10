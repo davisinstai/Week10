{
 "cells": [
  {
   "cell_type": "markdown",
   "id": "a42006a6",
   "metadata": {
    "slideshow": {
     "slide_type": "subslide"
    }
   },
   "source": [
    "# The Key Terms for Friday and Monday\n",
    "\n",
    "* transformer"
   ]
  },
  {
   "cell_type": "markdown",
   "id": "b4492e78",
   "metadata": {
    "slideshow": {
     "slide_type": "slide"
    }
   },
   "source": [
    "# Transformer\n",
    "\n",
    "The machine learning architecture widely used today (in NLP, computer vision and beyond) is the **transformer**. Today, we will:\n",
    "\n",
    "* learn about transformers from the Washington Post\n",
    "* watch a video about transformers from Jay Alammar\n",
    "* interact with a transformer using a nifty demo from Polo Chau\n",
    "\n",
    "Our goal is not that you can *implement* a transformer, but that you understand what people mean when they use that term in machine learning. \n",
    "\n",
    "For the next two weeks, we will dig deep into transformers for machine learning."
   ]
  },
  {
   "cell_type": "markdown",
   "id": "eacc48e1",
   "metadata": {
    "slideshow": {
     "slide_type": "slide"
    }
   },
   "source": [
    "# Introduction to Transformers\n",
    "\n",
    "Let's dig into the interactive explanation on [this page](https://www.theguardian.com/technology/ng-interactive/2023/nov/01/how-ai-chatbots-like-chatgpt-or-bard-work-visual-explainer).\n",
    "\n",
    "And the the video on [this page](https://jalammar.github.io/illustrated-transformer/).\n",
    "\n"
   ]
  },
  {
   "cell_type": "markdown",
   "id": "51a0c5a9",
   "metadata": {
    "slideshow": {
     "slide_type": "slide"
    }
   },
   "source": [
    "# Playing with Transformers\n",
    "\n",
    "This web page will help us understand what we just watched: [Stable Diffusion demo](https://poloclub.github.io/diffusion-explainer/)."
   ]
  }
 ],
 "metadata": {
  "celltoolbar": "Raw Cell Format",
  "kernelspec": {
   "display_name": "Python 3 (ipykernel)",
   "language": "python",
   "name": "python3"
  },
  "language_info": {
   "codemirror_mode": {
    "name": "ipython",
    "version": 3
   },
   "file_extension": ".py",
   "mimetype": "text/x-python",
   "name": "python",
   "nbconvert_exporter": "python",
   "pygments_lexer": "ipython3",
   "version": "3.10.8"
  },
  "toc": {
   "base_numbering": 1,
   "nav_menu": {},
   "number_sections": true,
   "sideBar": true,
   "skip_h1_title": true,
   "title_cell": "Table of Contents",
   "title_sidebar": "Contents",
   "toc_cell": false,
   "toc_position": {},
   "toc_section_display": true,
   "toc_window_display": false
  }
 },
 "nbformat": 4,
 "nbformat_minor": 5
}
