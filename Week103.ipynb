{
 "cells": [
  {
   "cell_type": "markdown",
   "metadata": {},
   "source": [
    "# Review\n",
    "\n",
    "This review is based on the Jurafsky and Martin reading. If you forgot to do that reading, do it now. Each reading counts one point toward your participation grade!"
   ]
  },
  {
   "cell_type": "markdown",
   "metadata": {},
   "source": [
    "Question 1: *What distinguishes NLP applications from other systems that process data?*"
   ]
  },
  {
   "cell_type": "markdown",
   "metadata": {},
   "source": [
    "Question 2: Let's list some computational linguistics terms.\n",
    "\n",
    "* *What is the field that examines the structure of words?*\n",
    "* *What is the field that examines the structure of sentences?*\n",
    "* *What is the field that examines the meaning of words?*\n",
    "* *What is the field that examines the meaning of phrases and sentences?*\n",
    "* *What is the field that examines language use in context?*"
   ]
  },
  {
   "cell_type": "markdown",
   "metadata": {},
   "source": [
    "Question 3: Let's list some NLP tasks related to these terms.\n",
    "\n",
    "* *What is a NLP task to figure out what is a word?*\n",
    "* *What is a NLP task to figure out the word class of a word?*\n",
    "* *What is a NLP task to figure out the root form of a word?*\n",
    "* *What is a NLP task to figure out the structure of a sentence?*\n",
    "\n"
   ]
  },
  {
   "cell_type": "markdown",
   "metadata": {},
   "source": [
    "Question 4: *What feature of human language makes NLP hard?*"
   ]
  },
  {
   "cell_type": "markdown",
   "metadata": {},
   "source": [
    "Question 5: Let's review the history of NLP. The rough periods are: 1957-1970; 1970-1993; 1994-2009; 2009-today. Match the period to the predominant approach:\n",
    "\n",
    "* Bayesian\n",
    "* logic (rules)\n",
    "* statistical machine learning\n",
    "* deep learning"
   ]
  },
  {
   "cell_type": "markdown",
   "metadata": {},
   "source": [
    "Question 6: *What are some applications of NLP?* (For example, that we looked at this week in class)\n",
    "\n",
    "* application 1\n",
    "* application 2\n",
    "* application 3"
   ]
  },
  {
   "cell_type": "markdown",
   "metadata": {},
   "source": [
    "Question 7: *What are some other fields that contribute to our understanding of human language?*\n",
    "\n",
    "* field 1\n",
    "* field 2"
   ]
  }
 ],
 "metadata": {
  "kernelspec": {
   "display_name": "Python 3 (ipykernel)",
   "language": "python",
   "name": "python3"
  },
  "language_info": {
   "codemirror_mode": {
    "name": "ipython",
    "version": 3
   },
   "file_extension": ".py",
   "mimetype": "text/x-python",
   "name": "python",
   "nbconvert_exporter": "python",
   "pygments_lexer": "ipython3",
   "version": "3.10.8"
  }
 },
 "nbformat": 4,
 "nbformat_minor": 4
}
