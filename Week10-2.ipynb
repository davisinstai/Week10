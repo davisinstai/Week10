{
 "cells": [
  {
   "cell_type": "markdown",
   "id": "b1488c85",
   "metadata": {
    "editable": true,
    "slideshow": {
     "slide_type": "slide"
    },
    "tags": []
   },
   "source": [
    "# The Key Terms for Wednesday\n",
    "\n",
    "* `transformers`\n",
    "* `pipeline`"
   ]
  },
  {
   "cell_type": "markdown",
   "id": "e09d8c13",
   "metadata": {
    "editable": true,
    "slideshow": {
     "slide_type": "subslide"
    },
    "tags": []
   },
   "source": [
    "# Open Source NLP\n",
    "\n",
    "Everything we have done with NLP and ML this semester has been doine using **open source**: open source data; open source models; open source code.\n",
    "\n",
    "There is a thriving open source tradition in AI.\n",
    "\n",
    "AI would not be as pervasive without open source.\n",
    "\n",
    "Among the *benefits* of open source are transparency and reproducibility.\n",
    "\n",
    "Among the *risks* of open source are reproducibility and security."
   ]
  },
  {
   "cell_type": "markdown",
   "metadata": {},
   "source": [
    "# Huggingface\n",
    "\n",
    "[Huggingface](https://www.crunchbase.com/organization/hugging-face/) is a Brooklyn-based company that was founded just about the time the first transformer models for NLP became famous. Its business model is open source.\n",
    "\n",
    "The huggingface staff:\n",
    "\n",
    "* host transformer-related data, code, models, data sheets, model cards and applications\n",
    "* help people more easily use transformers (for NLP, computer vision and other AI applications)\n",
    "* help people more easily *fine tune* transformers (we will do that!)\n",
    "* consult with companies on how to operationalize and scale their use of transformers"
   ]
  },
  {
   "cell_type": "markdown",
   "metadata": {},
   "source": [
    "# `transformers`\n",
    "\n",
    "Because of the huggingface `transformers` package, we can easily use transformers ourselves!\n",
    "\n",
    "Let's make a transformers `pipeline` for sentiment analysis. Sentiment analysis is a NLP task that estimates the *polarity* (and sometimes the *strength*) of the sentiment communicated by a text."
   ]
  },
  {
   "cell_type": "code",
   "execution_count": 1,
   "metadata": {},
   "outputs": [
    {
     "name": "stderr",
     "output_type": "stream",
     "text": [
      "/home/codespace/.local/lib/python3.10/site-packages/tqdm/auto.py:21: TqdmWarning: IProgress not found. Please update jupyter and ipywidgets. See https://ipywidgets.readthedocs.io/en/stable/user_install.html\n",
      "  from .autonotebook import tqdm as notebook_tqdm\n",
      "No model was supplied, defaulted to distilbert-base-uncased-finetuned-sst-2-english and revision af0f99b (https://huggingface.co/distilbert-base-uncased-finetuned-sst-2-english).\n",
      "Using a pipeline without specifying a model name and revision in production is not recommended.\n"
     ]
    },
    {
     "data": {
      "text/plain": [
       "[{'label': 'POSITIVE', 'score': 0.9998225569725037},\n",
       " {'label': 'POSITIVE', 'score': 0.9882440567016602},\n",
       " {'label': 'NEGATIVE', 'score': 0.998120129108429}]"
      ]
     },
     "execution_count": 1,
     "metadata": {},
     "output_type": "execute_result"
    }
   ],
   "source": [
    "from transformers import pipeline\n",
    "\n",
    "classifier = pipeline(\"sentiment-analysis\")\n",
    "classifier([\"Summer in Maine is the best season.\", \"Spring is variable.\", \"The period between winter and spring is muddy; I hate mud.\"])"
   ]
  },
  {
   "cell_type": "markdown",
   "metadata": {},
   "source": [
    "Well, we just used transformers, the most advanced NLP model type known today! \n",
    "\n",
    "A huggingface `pipeline` pulls together a tokenizer, one or more models, and some post-processing. It can operate over a single text or a list of texts.\n",
    "\n",
    "[There are NLP pipelines](https://huggingface.co/docs/transformers/main_classes/pipelines) for:\n",
    "\n",
    "* named entity recognition\n",
    "* sentiment analysis\n",
    "* summarization\n",
    "* question answering\n",
    "* text classification\n",
    "* translation\n",
    "\n",
    "There are also computer vision and speech pipelines.\n"
   ]
  },
  {
   "cell_type": "markdown",
   "metadata": {},
   "source": [
    "Let's try a summarization pipeline."
   ]
  },
  {
   "cell_type": "code",
   "execution_count": 2,
   "metadata": {},
   "outputs": [
    {
     "name": "stderr",
     "output_type": "stream",
     "text": [
      "No model was supplied, defaulted to sshleifer/distilbart-cnn-12-6 and revision a4f8f3e (https://huggingface.co/sshleifer/distilbart-cnn-12-6).\n",
      "Using a pipeline without specifying a model name and revision in production is not recommended.\n"
     ]
    },
    {
     "data": {
      "text/plain": [
       "[{'summary_text': ' Colby College is a private liberal arts college in Waterville, Maine . Located in central Maine, the 714-acre Neo-Georgian campus sits atop Mayflower Hill and overlooks downtown Waterville and the Kennebec River Valley . Approximately 2,000 students from more than 60 countries are enrolled annually .'}]"
      ]
     },
     "execution_count": 2,
     "metadata": {},
     "output_type": "execute_result"
    }
   ],
   "source": [
    "summarizer = pipeline(\"summarization\")\n",
    "text = \"Colby College is a private liberal arts college in Waterville, Maine. Founded in 1813 as the Maine Literary and Theological Institution, it was renamed Waterville College in 1821. The donations of Christian philanthropist Gardner Colby saw the institution renamed again to Colby University before settling on its current title, reflecting its liberal arts college curriculum, in 1899. Approximately 2,000 students from more than 60 countries are enrolled annually. The college offers 54 major fields of study and 30 minors. Located in central Maine, the 714-acre Neo-Georgian campus sits atop Mayflower Hill and overlooks downtown Waterville and the Kennebec River Valley. Along with fellow Maine institutions Bates College and Bowdoin College, Colby competes in the New England Small College Athletic Conference (NESCAC) and the Colby-Bates-Bowdoin Consortium.\"\n",
    "summarizer(text)"
   ]
  },
  {
   "cell_type": "markdown",
   "metadata": {},
   "source": [
    "Maybe I think that summary is still too long. Let's exert more control."
   ]
  },
  {
   "cell_type": "code",
   "execution_count": 3,
   "metadata": {},
   "outputs": [
    {
     "data": {
      "text/plain": [
       "[{'summary_text': ' Colby College was founded in 1813 as the Maine Literary and Theological Institution .'}]"
      ]
     },
     "execution_count": 3,
     "metadata": {},
     "output_type": "execute_result"
    }
   ],
   "source": [
    "summarizer(text, min_length=5, max_length=20)"
   ]
  },
  {
   "cell_type": "markdown",
   "metadata": {},
   "source": [
    "Is that better?\n",
    "\n",
    "What if we used a different model?"
   ]
  },
  {
   "cell_type": "code",
   "execution_count": 14,
   "metadata": {},
   "outputs": [
    {
     "data": {
      "text/plain": [
       "[{'summary_text': 'Founded in 1813 as the Maine Literary and Theological Institution, it was renamed Waterville College in 1821 . the donations of Christian philanthropist Gardner Colby saw the institution re-named again to Colby University . Approximately 2,000 students from more than 60 countries are enrolled annually .'}]"
      ]
     },
     "execution_count": 14,
     "metadata": {},
     "output_type": "execute_result"
    }
   ],
   "source": [
    "summarizer = pipeline(\"summarization\", model=\"t5-base\")\n",
    "summarizer(text)"
   ]
  },
  {
   "cell_type": "markdown",
   "metadata": {},
   "source": [
    "Is that better?\n",
    "\n",
    "Notice that when you instantiate a pipeline, hugginface downloads a model. Any transformer model is pretty big. Some are a lot bigger than others. Downloading a model (and then loading it) takes time, which is why once we've made a pipeline it's good to keep it around if we are going to process a lot of documents."
   ]
  },
  {
   "cell_type": "markdown",
   "metadata": {},
   "source": [
    "# Huggingface vs spaCy\n",
    "\n",
    "Huggingface and spaCy are different companies. Each company releases open source software.\n",
    "\n",
    "The huggingface software is the python package `transformers`.\n",
    "\n",
    "The spaCy software is the python package `spaCy`.\n",
    "\n",
    "Both softwares use models. spaCy has a whole set of models (the ones ending in `-trf`) that use huggingface transformers!\n",
    "\n",
    "spaCy can do some NLP tasks that huggingface can't do. \n",
    "\n",
    "The spaCy models are highly tuned and optimized for processing text using NLP. The huggingface models (e.g. for NER) are contributed by the community. \n",
    "\n",
    "The huggingface models focus more on NLP *applications* like summarization, sentiment analysis or translation.\n",
    "\n",
    "If you have a choice, I would use the spaCy models for text preprocessing. \n",
    "\n",
    "If you want to use a NLP application, huggingface is great."
   ]
  },
  {
   "cell_type": "markdown",
   "id": "9f6d6723",
   "metadata": {},
   "source": [
    "# Over to You!\n",
    "\n",
    "Now, on your own, complete the [first lesson](https://huggingface.co/learn/nlp-course/chapter1/3?fw=pt) in the huggingface course. Paste your code below.\n",
    "\n",
    "Note that you now understand that pipelines is a class, which has subclasses for various tasks. You know how to import packages; you know what required and optional arguments to a function or method look like; and you know how to make strings and lists. Congratulations!"
   ]
  },
  {
   "cell_type": "code",
   "execution_count": null,
   "metadata": {},
   "outputs": [],
   "source": []
  },
  {
   "cell_type": "code",
   "execution_count": null,
   "metadata": {},
   "outputs": [],
   "source": []
  }
 ],
 "metadata": {
  "kernelspec": {
   "display_name": "Python 3 (ipykernel)",
   "language": "python",
   "name": "python3"
  },
  "language_info": {
   "codemirror_mode": {
    "name": "ipython",
    "version": 3
   },
   "file_extension": ".py",
   "mimetype": "text/x-python",
   "name": "python",
   "nbconvert_exporter": "python",
   "pygments_lexer": "ipython3",
   "version": "3.10.8"
  }
 },
 "nbformat": 4,
 "nbformat_minor": 5
}
